{
 "cells": [
  {
   "attachments": {
    "image.png": {
     "image/png": "[encoded data removed]"
    }
   },
   "cell_type": "markdown",
   "metadata": {},
   "source": [
    "# Посредник\n",
    "\n",
    "Посредник -- поведенческий паттерн проектирования, который позволяет уменьшить связанность множества классов между собой, благодаря перемещению этих связей в один класс-посредник.\n",
    "\n",
    "![image.png](attachment:image.png)\n",
    "\n",
    "В данном примере система онлайн-торговли выступает в роли посредника между продавцами и покупателями. Продавцы могут зарегистрироваться на платформе и добавлять, удалять или обновлять свои товары. Покупатели могут искать товары по ключевым словам, добавлять их в корзину, оформлять заказы и производить оплату.\n",
    "\n",
    "## Реализация в Python\n",
    "\n"
   ]
  },
  {
   "attachments": {},
   "cell_type": "markdown",
   "metadata": {},
   "source": [
    "Реализуем класс для магазина:"
   ]
  },
  {
   "cell_type": "code",
   "execution_count": 1,
   "metadata": {},
   "outputs": [],
   "source": [
    "class OnlineMarketplace:\n",
    "    def __init__(self):\n",
    "        self.sellers = []\n",
    "        self.buyers = []\n",
    "        self.orders = []\n",
    "\n",
    "    def registerSeller(self, seller):\n",
    "        self.sellers.append(seller)\n",
    "\n",
    "    def registerBuyer(self, buyer):\n",
    "        self.buyers.append(buyer)\n",
    "\n",
    "    def notifySeller(self, product, buyer):\n",
    "        for seller in self.sellers:\n",
    "            if product in seller.getProducts():\n",
    "                seller.notify(product, buyer)\n",
    "\n",
    "    def notifyBuyer(self, product, seller):\n",
    "        for buyer in self.buyers:\n",
    "            if product in buyer.getCart():\n",
    "                buyer.notify(product, seller)\n"
   ]
  },
  {
   "attachments": {},
   "cell_type": "markdown",
   "metadata": {},
   "source": [
    "Реализуем классы для продавца и покупателя:"
   ]
  },
  {
   "cell_type": "code",
   "execution_count": 2,
   "metadata": {},
   "outputs": [],
   "source": [
    "class Seller:\n",
    "    def __init__(self, name):\n",
    "        self.name = name\n",
    "        self.products = []\n",
    "\n",
    "    def addProduct(self, product):\n",
    "        self.products.append(product)\n",
    "\n",
    "    def removeProduct(self, product):\n",
    "        self.products.remove(product)\n",
    "\n",
    "    def updateProduct(self, product):\n",
    "        for i, p in enumerate(self.products):\n",
    "            if p.name == product.name:\n",
    "                self.products[i] = product\n",
    "\n",
    "    def getProducts(self):\n",
    "        return self.products\n",
    "\n",
    "    def notify(self, product, buyer):\n",
    "        print(f\"Dear {self.name}, your product {product.name} has been purchased by {buyer.name}.\")\n",
    "\n",
    "class Buyer:\n",
    "    def __init__(self, name):\n",
    "        self.name = name\n",
    "        self.cart = []\n",
    "\n",
    "    def searchProduct(self, keyword):\n",
    "        results = []\n",
    "        for seller in onlineMarketplace.sellers:\n",
    "            for product in seller.getProducts():\n",
    "                if keyword in product.name or keyword in product.description:\n",
    "                    results.append(product)\n",
    "        return results\n",
    "\n",
    "    def addToCart(self, product):\n",
    "        self.cart.append(product)\n",
    "\n",
    "    def removeFromCart(self, product):\n",
    "        self.cart.remove(product)\n",
    "\n",
    "    def getCart(self):\n",
    "        return self.cart\n",
    "\n",
    "    def checkout(self):\n",
    "        totalPrice = sum([product.price for product in self.cart])\n",
    "        order = Order(self, self.cart, totalPrice)\n",
    "        onlineMarketplace.orders.append(order)\n",
    "        return order\n",
    "\n",
    "    def notify(self, product, seller):\n",
    "        print(f\"Dear {self.name}, your order for {product.name} from {seller.name} has been processed.\")\n",
    "\n"
   ]
  },
  {
   "attachments": {},
   "cell_type": "markdown",
   "metadata": {},
   "source": [
    "Реализуем классы для продукта и заказа:"
   ]
  },
  {
   "cell_type": "code",
   "execution_count": 3,
   "metadata": {},
   "outputs": [],
   "source": [
    "class Product:\n",
    "    def __init__(self, name, price, description):\n",
    "        self.name = name\n",
    "        self.price = price\n",
    "        self.description = description\n",
    "\n",
    "class Order:\n",
    "    def __init__(self, buyer, products, totalPrice):\n",
    "        self.buyer = buyer\n",
    "        self.products = products\n",
    "        self.totalPrice = totalPrice\n",
    "\n",
    "onlineMarketplace = OnlineMarketplace()"
   ]
  },
  {
   "attachments": {},
   "cell_type": "markdown",
   "metadata": {},
   "source": [
    "Реализуем примеры использования:"
   ]
  },
  {
   "cell_type": "code",
   "execution_count": 6,
   "metadata": {},
   "outputs": [
    {
     "name": "stdout",
     "output_type": "stream",
     "text": [
      "Dear John, your product iPhone has been purchased by Alice.\n",
      "Dear Alice, your order for iPhone from John has been processed.\n"
     ]
    }
   ],
   "source": [
    "onlineMarketplace = OnlineMarketplace()\n",
    "\n",
    "seller1 = Seller(\"John\")\n",
    "seller2 = Seller(\"Mary\")\n",
    "onlineMarketplace.registerSeller(seller1)\n",
    "onlineMarketplace.registerSeller(seller2)\n",
    "\n",
    "product1 = Product(\"iPhone\", 999.99, \"The latest iPhone model.\")\n",
    "product2 = Product(\"MacBook\", 1499.99, \"The newest MacBook with Retina display.\")\n",
    "seller1.addProduct(product1)\n",
    "seller2.addProduct(product2)\n",
    "\n",
    "buyer1 = Buyer(\"Alice\")\n",
    "buyer2 = Buyer(\"Bob\")\n",
    "onlineMarketplace.registerBuyer(buyer1)\n",
    "onlineMarketplace.registerBuyer(buyer2)\n",
    "\n",
    "results = buyer1.searchProduct(\"iPhone\")\n",
    "buyer1.addToCart(results[0])\n",
    "order1 = buyer1.checkout()\n",
    "onlineMarketplace.notifySeller(product1, buyer1)\n",
    "onlineMarketplace.notifyBuyer(product1, seller1)"
   ]
  }
 ],
 "metadata": {
  "kernelspec": {
   "display_name": "Python 3",
   "language": "python",
   "name": "python3"
  },
  "language_info": {
   "codemirror_mode": {
    "name": "ipython",
    "version": 3
   },
   "file_extension": ".py",
   "mimetype": "text/x-python",
   "name": "python",
   "nbconvert_exporter": "python",
   "pygments_lexer": "ipython3",
   "version": "3.11.2"
  },
  "orig_nbformat": 4
 },
 "nbformat": 4,
 "nbformat_minor": 2
}
